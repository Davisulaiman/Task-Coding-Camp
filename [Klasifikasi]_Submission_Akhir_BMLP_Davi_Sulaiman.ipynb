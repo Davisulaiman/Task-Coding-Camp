{
 "cells": [
  {
   "cell_type": "code",
   "execution_count": 24,
   "metadata": {},
   "outputs": [
    {
     "name": "stdout",
     "output_type": "stream",
     "text": [
      "Requirement already satisfied: pandas in e:\\submission\\myvenv\\lib\\site-packages (2.2.3)\n",
      "Requirement already satisfied: numpy in e:\\submission\\myvenv\\lib\\site-packages (2.2.3)\n",
      "Requirement already satisfied: matplotlib in e:\\submission\\myvenv\\lib\\site-packages (3.10.1)\n",
      "Requirement already satisfied: seaborn in e:\\submission\\myvenv\\lib\\site-packages (0.13.2)\n",
      "Requirement already satisfied: scikit-learn in e:\\submission\\myvenv\\lib\\site-packages (1.6.1)\n",
      "Requirement already satisfied: python-dateutil>=2.8.2 in e:\\submission\\myvenv\\lib\\site-packages (from pandas) (2.9.0.post0)\n",
      "Requirement already satisfied: pytz>=2020.1 in e:\\submission\\myvenv\\lib\\site-packages (from pandas) (2025.1)\n",
      "Requirement already satisfied: tzdata>=2022.7 in e:\\submission\\myvenv\\lib\\site-packages (from pandas) (2025.1)\n",
      "Requirement already satisfied: contourpy>=1.0.1 in e:\\submission\\myvenv\\lib\\site-packages (from matplotlib) (1.3.1)\n",
      "Requirement already satisfied: cycler>=0.10 in e:\\submission\\myvenv\\lib\\site-packages (from matplotlib) (0.12.1)\n",
      "Requirement already satisfied: fonttools>=4.22.0 in e:\\submission\\myvenv\\lib\\site-packages (from matplotlib) (4.56.0)\n",
      "Requirement already satisfied: kiwisolver>=1.3.1 in e:\\submission\\myvenv\\lib\\site-packages (from matplotlib) (1.4.8)\n",
      "Requirement already satisfied: packaging>=20.0 in e:\\submission\\myvenv\\lib\\site-packages (from matplotlib) (24.2)\n",
      "Requirement already satisfied: pillow>=8 in e:\\submission\\myvenv\\lib\\site-packages (from matplotlib) (11.1.0)\n",
      "Requirement already satisfied: pyparsing>=2.3.1 in e:\\submission\\myvenv\\lib\\site-packages (from matplotlib) (3.2.1)\n",
      "Requirement already satisfied: scipy>=1.6.0 in e:\\submission\\myvenv\\lib\\site-packages (from scikit-learn) (1.15.2)\n",
      "Requirement already satisfied: joblib>=1.2.0 in e:\\submission\\myvenv\\lib\\site-packages (from scikit-learn) (1.4.2)\n",
      "Requirement already satisfied: threadpoolctl>=3.1.0 in e:\\submission\\myvenv\\lib\\site-packages (from scikit-learn) (3.6.0)\n",
      "Requirement already satisfied: six>=1.5 in e:\\submission\\myvenv\\lib\\site-packages (from python-dateutil>=2.8.2->pandas) (1.17.0)\n",
      "Note: you may need to restart the kernel to use updated packages.\n"
     ]
    },
    {
     "name": "stderr",
     "output_type": "stream",
     "text": [
      "\n",
      "[notice] A new release of pip is available: 24.0 -> 25.0.1\n",
      "[notice] To update, run: python.exe -m pip install --upgrade pip\n"
     ]
    }
   ],
   "source": [
    "pip install pandas numpy matplotlib seaborn scikit-learn "
   ]
  },
  {
   "cell_type": "markdown",
   "metadata": {
    "id": "fKADPWcFKlj3"
   },
   "source": [
    "# **1. Import Library**"
   ]
  },
  {
   "cell_type": "code",
   "execution_count": 25,
   "metadata": {
    "id": "1JOnpQvDXGIe"
   },
   "outputs": [],
   "source": [
    "import pandas as pd\n",
    "import numpy as np\n",
    "import matplotlib.pyplot as plt\n",
    "import seaborn as sns\n",
    "from sklearn.model_selection import train_test_split\n",
    "from sklearn.tree import DecisionTreeClassifier\n",
    "from sklearn.ensemble import RandomForestClassifier\n",
    "from sklearn.linear_model import LogisticRegression\n",
    "from sklearn.neighbors import KNeighborsClassifier\n",
    "from sklearn.metrics import accuracy_score, precision_score, recall_score, f1_score, confusion_matrix\n"
   ]
  },
  {
   "cell_type": "markdown",
   "metadata": {
    "id": "LgA3ERnVn84N"
   },
   "source": [
    "Pada tahap ini, Anda perlu mengimpor beberapa pustaka (library) Python yang dibutuhkan untuk analisis data dan pembangunan model machine learning."
   ]
  },
  {
   "cell_type": "markdown",
   "metadata": {
    "id": "f3YIEnAFKrKL"
   },
   "source": [
    "# **2. Memuat Dataset dari Hasil Clustering**"
   ]
  },
  {
   "cell_type": "markdown",
   "metadata": {
    "id": "Ey3ItwTen_7E"
   },
   "source": [
    "Memuat dataset hasil clustering dari file CSV ke dalam variabel DataFrame."
   ]
  },
  {
   "cell_type": "code",
   "execution_count": 26,
   "metadata": {
    "id": "GHCGNTyrM5fS"
   },
   "outputs": [
    {
     "name": "stdout",
     "output_type": "stream",
     "text": [
      "Dataset\n"
     ]
    },
    {
     "data": {
      "text/html": [
       "<div>\n",
       "<style scoped>\n",
       "    .dataframe tbody tr th:only-of-type {\n",
       "        vertical-align: middle;\n",
       "    }\n",
       "\n",
       "    .dataframe tbody tr th {\n",
       "        vertical-align: top;\n",
       "    }\n",
       "\n",
       "    .dataframe thead th {\n",
       "        text-align: right;\n",
       "    }\n",
       "</style>\n",
       "<table border=\"1\" class=\"dataframe\">\n",
       "  <thead>\n",
       "    <tr style=\"text-align: right;\">\n",
       "      <th></th>\n",
       "      <th>CLIENTNUM</th>\n",
       "      <th>Customer_Age</th>\n",
       "      <th>Dependent_count</th>\n",
       "      <th>Months_on_book</th>\n",
       "      <th>Total_Relationship_Count</th>\n",
       "      <th>Months_Inactive_12_mon</th>\n",
       "      <th>Contacts_Count_12_mon</th>\n",
       "      <th>Credit_Limit</th>\n",
       "      <th>Total_Revolving_Bal</th>\n",
       "      <th>Avg_Open_To_Buy</th>\n",
       "      <th>Total_Amt_Chng_Q4_Q1</th>\n",
       "      <th>Total_Trans_Amt</th>\n",
       "      <th>Total_Trans_Ct</th>\n",
       "      <th>Total_Ct_Chng_Q4_Q1</th>\n",
       "      <th>Avg_Utilization_Ratio</th>\n",
       "      <th>Gender_M</th>\n",
       "      <th>Marital_Status_Married</th>\n",
       "      <th>Marital_Status_Single</th>\n",
       "      <th>Attrition_Flag_Existing Customer</th>\n",
       "      <th>KMeans_Cluster</th>\n",
       "    </tr>\n",
       "  </thead>\n",
       "  <tbody>\n",
       "    <tr>\n",
       "      <th>0</th>\n",
       "      <td>0.504929</td>\n",
       "      <td>0.404255</td>\n",
       "      <td>0.6</td>\n",
       "      <td>0.604651</td>\n",
       "      <td>0.8</td>\n",
       "      <td>0.166667</td>\n",
       "      <td>0.500000</td>\n",
       "      <td>0.292811</td>\n",
       "      <td>0.308701</td>\n",
       "      <td>0.296481</td>\n",
       "      <td>0.324698</td>\n",
       "      <td>0.042123</td>\n",
       "      <td>0.248062</td>\n",
       "      <td>0.28783</td>\n",
       "      <td>0.061061</td>\n",
       "      <td>1.0</td>\n",
       "      <td>1.0</td>\n",
       "      <td>0.0</td>\n",
       "      <td>1.0</td>\n",
       "      <td>2</td>\n",
       "    </tr>\n",
       "    <tr>\n",
       "      <th>1</th>\n",
       "      <td>0.920398</td>\n",
       "      <td>0.489362</td>\n",
       "      <td>1.0</td>\n",
       "      <td>0.720930</td>\n",
       "      <td>1.0</td>\n",
       "      <td>0.166667</td>\n",
       "      <td>0.333333</td>\n",
       "      <td>0.187402</td>\n",
       "      <td>0.343266</td>\n",
       "      <td>0.193997</td>\n",
       "      <td>0.324698</td>\n",
       "      <td>0.042534</td>\n",
       "      <td>0.178295</td>\n",
       "      <td>0.28783</td>\n",
       "      <td>0.105105</td>\n",
       "      <td>0.0</td>\n",
       "      <td>0.0</td>\n",
       "      <td>1.0</td>\n",
       "      <td>1.0</td>\n",
       "      <td>0</td>\n",
       "    </tr>\n",
       "    <tr>\n",
       "      <th>2</th>\n",
       "      <td>0.049060</td>\n",
       "      <td>0.531915</td>\n",
       "      <td>0.6</td>\n",
       "      <td>0.534884</td>\n",
       "      <td>0.6</td>\n",
       "      <td>0.166667</td>\n",
       "      <td>0.166667</td>\n",
       "      <td>0.058127</td>\n",
       "      <td>0.000000</td>\n",
       "      <td>0.094354</td>\n",
       "      <td>0.324698</td>\n",
       "      <td>0.073818</td>\n",
       "      <td>0.139535</td>\n",
       "      <td>0.28783</td>\n",
       "      <td>0.000000</td>\n",
       "      <td>1.0</td>\n",
       "      <td>1.0</td>\n",
       "      <td>0.0</td>\n",
       "      <td>1.0</td>\n",
       "      <td>1</td>\n",
       "    </tr>\n",
       "    <tr>\n",
       "      <th>3</th>\n",
       "      <td>0.514130</td>\n",
       "      <td>0.297872</td>\n",
       "      <td>0.8</td>\n",
       "      <td>0.488372</td>\n",
       "      <td>0.4</td>\n",
       "      <td>0.666667</td>\n",
       "      <td>0.166667</td>\n",
       "      <td>0.055128</td>\n",
       "      <td>1.000000</td>\n",
       "      <td>0.022717</td>\n",
       "      <td>0.324698</td>\n",
       "      <td>0.042123</td>\n",
       "      <td>0.139535</td>\n",
       "      <td>0.28783</td>\n",
       "      <td>0.760761</td>\n",
       "      <td>0.0</td>\n",
       "      <td>1.0</td>\n",
       "      <td>0.0</td>\n",
       "      <td>1.0</td>\n",
       "      <td>1</td>\n",
       "    </tr>\n",
       "    <tr>\n",
       "      <th>4</th>\n",
       "      <td>0.008517</td>\n",
       "      <td>0.297872</td>\n",
       "      <td>0.6</td>\n",
       "      <td>0.209302</td>\n",
       "      <td>0.8</td>\n",
       "      <td>0.166667</td>\n",
       "      <td>0.166667</td>\n",
       "      <td>0.094483</td>\n",
       "      <td>0.000000</td>\n",
       "      <td>0.128004</td>\n",
       "      <td>0.324698</td>\n",
       "      <td>0.042123</td>\n",
       "      <td>0.139535</td>\n",
       "      <td>0.28783</td>\n",
       "      <td>0.000000</td>\n",
       "      <td>1.0</td>\n",
       "      <td>1.0</td>\n",
       "      <td>0.0</td>\n",
       "      <td>1.0</td>\n",
       "      <td>1</td>\n",
       "    </tr>\n",
       "  </tbody>\n",
       "</table>\n",
       "</div>"
      ],
      "text/plain": [
       "   CLIENTNUM  Customer_Age  Dependent_count  Months_on_book  \\\n",
       "0   0.504929      0.404255              0.6        0.604651   \n",
       "1   0.920398      0.489362              1.0        0.720930   \n",
       "2   0.049060      0.531915              0.6        0.534884   \n",
       "3   0.514130      0.297872              0.8        0.488372   \n",
       "4   0.008517      0.297872              0.6        0.209302   \n",
       "\n",
       "   Total_Relationship_Count  Months_Inactive_12_mon  Contacts_Count_12_mon  \\\n",
       "0                       0.8                0.166667               0.500000   \n",
       "1                       1.0                0.166667               0.333333   \n",
       "2                       0.6                0.166667               0.166667   \n",
       "3                       0.4                0.666667               0.166667   \n",
       "4                       0.8                0.166667               0.166667   \n",
       "\n",
       "   Credit_Limit  Total_Revolving_Bal  Avg_Open_To_Buy  Total_Amt_Chng_Q4_Q1  \\\n",
       "0      0.292811             0.308701         0.296481              0.324698   \n",
       "1      0.187402             0.343266         0.193997              0.324698   \n",
       "2      0.058127             0.000000         0.094354              0.324698   \n",
       "3      0.055128             1.000000         0.022717              0.324698   \n",
       "4      0.094483             0.000000         0.128004              0.324698   \n",
       "\n",
       "   Total_Trans_Amt  Total_Trans_Ct  Total_Ct_Chng_Q4_Q1  \\\n",
       "0         0.042123        0.248062              0.28783   \n",
       "1         0.042534        0.178295              0.28783   \n",
       "2         0.073818        0.139535              0.28783   \n",
       "3         0.042123        0.139535              0.28783   \n",
       "4         0.042123        0.139535              0.28783   \n",
       "\n",
       "   Avg_Utilization_Ratio  Gender_M  Marital_Status_Married  \\\n",
       "0               0.061061       1.0                     1.0   \n",
       "1               0.105105       0.0                     0.0   \n",
       "2               0.000000       1.0                     1.0   \n",
       "3               0.760761       0.0                     1.0   \n",
       "4               0.000000       1.0                     1.0   \n",
       "\n",
       "   Marital_Status_Single  Attrition_Flag_Existing Customer  KMeans_Cluster  \n",
       "0                    0.0                               1.0               2  \n",
       "1                    1.0                               1.0               0  \n",
       "2                    0.0                               1.0               1  \n",
       "3                    0.0                               1.0               1  \n",
       "4                    0.0                               1.0               1  "
      ]
     },
     "execution_count": 26,
     "metadata": {},
     "output_type": "execute_result"
    }
   ],
   "source": [
    "bank_df = pd.read_csv(\"./Dataset_inisiasi.csv\")\n",
    "print(\"Dataset\")\n",
    "bank_df.head()"
   ]
  },
  {
   "cell_type": "markdown",
   "metadata": {
    "id": "KkPem5eWL2UP"
   },
   "source": [
    "# **3. Data Splitting**"
   ]
  },
  {
   "cell_type": "markdown",
   "metadata": {
    "id": "YYj1rl_JNI9Y"
   },
   "source": [
    "Tahap Data Splitting bertujuan untuk memisahkan dataset menjadi dua bagian: data latih (training set) dan data uji (test set)."
   ]
  },
  {
   "cell_type": "code",
   "execution_count": 28,
   "metadata": {
    "id": "OubAW-7ONKVj"
   },
   "outputs": [
    {
     "name": "stdout",
     "output_type": "stream",
     "text": [
      "Data Training:\n",
      "X: (8101, 18), y: (8101,) \n",
      "\n",
      "Data Testing:\n",
      "X: (2026, 18), y: (2026,)\n"
     ]
    }
   ],
   "source": [
    "# Memisahkan fitur dan target\n",
    "X = bank_df.drop(columns=[\"Attrition_Flag_Existing Customer\", \"CLIENTNUM\"])\n",
    "y = bank_df[\"Attrition_Flag_Existing Customer\"]\n",
    "\n",
    "# Menyertakan KMeans_Cluster sebagai fitur tambahan\n",
    "X[\"KMeans_Cluster\"] = bank_df[\"KMeans_Cluster\"]\n",
    "\n",
    "# Split data: 80% training, 20% testing\n",
    "X_train, X_test, y_train, y_test = train_test_split(X, y, test_size=0.2, stratify=y, random_state=42)\n",
    "\n",
    "# Verifikasi bentuk data\n",
    "print(\"Data Training:\")\n",
    "print(f\"X: {X_train.shape}, y: {y_train.shape} \")\n",
    "print(\"\\nData Testing:\")\n",
    "print(f\"X: {X_test.shape}, y: {y_test.shape}\")"
   ]
  },
  {
   "cell_type": "markdown",
   "metadata": {
    "id": "IVPbB03CMhTT"
   },
   "source": [
    "# **4. Membangun Model Klasifikasi**\n"
   ]
  },
  {
   "cell_type": "markdown",
   "metadata": {
    "id": "Ned1pL9zMmBK"
   },
   "source": [
    "## **a. Membangun Model Klasifikasi**"
   ]
  },
  {
   "cell_type": "markdown",
   "metadata": {
    "id": "WAWzPOE4Nkti"
   },
   "source": [
    "Setelah memilih algoritma klasifikasi yang sesuai, langkah selanjutnya adalah melatih model menggunakan data latih.\n",
    "\n",
    "Berikut adalah rekomendasi tahapannya.\n",
    "1. Pilih algoritma klasifikasi yang sesuai, seperti Logistic Regression, Decision Tree, Random Forest, atau K-Nearest Neighbors (KNN).\n",
    "2. Latih model menggunakan data latih."
   ]
  },
  {
   "cell_type": "code",
   "execution_count": 40,
   "metadata": {
    "id": "4JYxBe87NLDk"
   },
   "outputs": [],
   "source": [
    "# Inisialisasi model\n",
    "models = {\n",
    "    \"Random Forest\": RandomForestClassifier(random_state=42, n_jobs=-1),\n",
    "    \"Logistic Regression\": LogisticRegression(max_iter=1000, random_state=42),\n",
    "    \"K-Nearest Neighbors\": KNeighborsClassifier(n_neighbors=5),\n",
    "    \"Decision Tree\": DecisionTreeClassifier(random_state=42)\n",
    "}"
   ]
  },
  {
   "cell_type": "code",
   "execution_count": 41,
   "metadata": {},
   "outputs": [
    {
     "name": "stdout",
     "output_type": "stream",
     "text": [
      " Random Forest telah dilatih.\n",
      " Logistic Regression telah dilatih.\n",
      " K-Nearest Neighbors telah dilatih.\n",
      " Decision Tree telah dilatih.\n"
     ]
    }
   ],
   "source": [
    "# Melatih model\n",
    "trained_models = {}\n",
    "for name, model in models.items():\n",
    "    model.fit(X_train, y_train)\n",
    "    trained_models[name] = model\n",
    "    print(f\" {name} telah dilatih.\")"
   ]
  },
  {
   "cell_type": "markdown",
   "metadata": {
    "id": "seYoHNY3XU1y"
   },
   "source": [
    "Dalam kode ini menggunakan empat algoritma Machine Learning untuk klasifikasi yakni:\n",
    "1. Random Forest\n",
    "   - Merupakan metode ensemble berbasis Decision Tree.\n",
    "   - Menggunakan banyak pohon keputusan dan mengambil voting mayoritas untuk menentukan hasil akhir.\n",
    "   - Mengurangi risiko overfitting dibandingkan dengan Decision Tree tunggal.\n",
    "2. Logistic Regression\n",
    "   - Model berbasis statistik yang menggunakan fungsi sigmoid untuk memetakan input ke probabilitas kelas.\n",
    "   - Cocok untuk klasifikasi biner dan multiclass dengan hubungan linear antara fitur dan target.\n",
    "   - Menggunakan pendekatan probabilistik untuk membuat keputusan klasifikasi.\n",
    "3. K-Nearest Neighbors (KNN)\n",
    "   - Menentukan kelas berdasarkan mayoritas dari k tetangga terdekat dalam ruang fitur.\n",
    "   - Tidak memerlukan pelatihan eksplisit, karena klasifikasi dilakukan saat prediksi\n",
    "     dengan membandingkan jarak antar sampel.\n",
    "   - Performanya bergantung pada pemilihan jumlah tetangga (k) dan metrik jarak yang digunakan.\n",
    "4. Decision Tree\n",
    "   - Menggunakan struktur pohon untuk memisahkan data berdasarkan fitur yang memberikan informasi paling banyak.\n",
    "   - Memiliki interpretasi yang mudah namun rentan terhadap overfitting jika tidak dipangkas dengan baik.\n",
    "   - Efektif untuk menangani data yang memiliki hubungan non-linear.\n",
    "\n",
    "Dalam proses pelatihan, setiap model diinisialisasi, dilatih menggunakan data latih (X_train, y_train), dan disimpan dalam dictionary trained_models. Setelah semua model selesai dilatih, mereka siap untuk dievaluasi guna menentukan performa terbaik dalam klasifikasi."
   ]
  },
  {
   "cell_type": "markdown",
   "metadata": {
    "id": "ergzChZFEL-O"
   },
   "source": [
    "## **b. Evaluasi Model Klasifikasi**"
   ]
  },
  {
   "cell_type": "markdown",
   "metadata": {
    "id": "zOm68u-7NpLT"
   },
   "source": [
    "Berikut adalah **rekomendasi** tahapannya.\n",
    "1. Lakukan prediksi menggunakan data uji.\n",
    "2. Hitung metrik evaluasi seperti Accuracy dan F1-Score (Opsional: Precision dan Recall).\n",
    "3. Buat confusion matrix untuk melihat detail prediksi benar dan salah."
   ]
  },
  {
   "cell_type": "code",
   "execution_count": 42,
   "metadata": {
    "id": "tMq4QAssNLip"
   },
   "outputs": [
    {
     "name": "stdout",
     "output_type": "stream",
     "text": [
      " Random Forest selesai dievaluasi dengan akurasi: 0.9595\n",
      " Logistic Regression selesai dievaluasi dengan akurasi: 0.9057\n",
      " K-Nearest Neighbors selesai dievaluasi dengan akurasi: 0.8968\n",
      " Decision Tree selesai dievaluasi dengan akurasi: 0.9353\n"
     ]
    }
   ],
   "source": [
    "# Evaluasi model\n",
    "results = {}\n",
    "for name, model in trained_models.items():\n",
    "    y_pred = model.predict(X_test)\n",
    "\n",
    "    # Menghitung metrik evaluasi\n",
    "    accuracy = accuracy_score(y_test, y_pred)\n",
    "    precision = precision_score(y_test, y_pred, average='weighted')\n",
    "    recall = recall_score(y_test, y_pred, average='weighted')\n",
    "    f1 = f1_score(y_test, y_pred, average='weighted')\n",
    "    conf_matrix = confusion_matrix(y_test, y_pred)\n",
    "\n",
    "    # Simpan hasil evaluasi\n",
    "    results[name] = {\n",
    "        \"Accuracy\": accuracy,\n",
    "        \"Precision\": precision,\n",
    "        \"Recall\": recall,\n",
    "        \"F1-Score\": f1,\n",
    "        \"Confusion Matrix\": conf_matrix\n",
    "    }\n",
    "\n",
    "    print(f\" {name} selesai dievaluasi dengan akurasi: {accuracy:.4f}\")"
   ]
  },
  {
   "cell_type": "code",
   "execution_count": 43,
   "metadata": {},
   "outputs": [
    {
     "name": "stdout",
     "output_type": "stream",
     "text": [
      "\n",
      " Model: Random Forest\n",
      "  Accuracy: 0.9595\n",
      "  Precision: 0.9587\n",
      "  Recall: 0.9595\n",
      "  F1-Score: 0.9588\n",
      "--------------------------------------------------\n",
      "\n",
      " Model: Logistic Regression\n",
      "  Accuracy: 0.9057\n",
      "  Precision: 0.8997\n",
      "  Recall: 0.9057\n",
      "  F1-Score: 0.8988\n",
      "--------------------------------------------------\n",
      "\n",
      " Model: K-Nearest Neighbors\n",
      "  Accuracy: 0.8968\n",
      "  Precision: 0.8891\n",
      "  Recall: 0.8968\n",
      "  F1-Score: 0.8882\n",
      "--------------------------------------------------\n",
      "\n",
      " Model: Decision Tree\n",
      "  Accuracy: 0.9353\n",
      "  Precision: 0.9371\n",
      "  Recall: 0.9353\n",
      "  F1-Score: 0.9361\n",
      "--------------------------------------------------\n"
     ]
    }
   ],
   "source": [
    "# Tampilkan hasil evaluasi\n",
    "for model, metrics in results.items():\n",
    "    print(f\"\\n Model: {model}\")\n",
    "    for metric, value in metrics.items():\n",
    "        if metric != \"Confusion Matrix\":\n",
    "            print(f\"  {metric}: {value:.4f}\")\n",
    "    print(\"-\" * 50)"
   ]
  },
  {
   "cell_type": "code",
   "execution_count": 38,
   "metadata": {},
   "outputs": [
    {
     "data": {
      "image/png": "[encoded data removed]",
      "text/plain": [
       "<Figure size 1200x1000 with 8 Axes>"
      ]
     },
     "metadata": {},
     "output_type": "display_data"
    }
   ],
   "source": [
    "# Visualisasi Confusion Matrix\n",
    "fig, axes = plt.subplots(2, 2, figsize=(12, 10))\n",
    "\n",
    "for (name, metrics), ax in zip(results.items(), axes.flatten()):\n",
    "    conf_matrix = metrics[\"Confusion Matrix\"]\n",
    "    sns.heatmap(conf_matrix, annot=True, fmt=\"d\", cmap=\"Blues\",\n",
    "                xticklabels=[\"Not Attrited\", \"Attrited\"], yticklabels=[\"Not Attrited\", \"Attrited\"], ax=ax)\n",
    "    ax.set_title(f\"Confusion Matrix - {name}\")\n",
    "    ax.set_xlabel(\"Predicted Label\")\n",
    "    ax.set_ylabel(\"True Label\")\n",
    "\n",
    "plt.tight_layout()\n",
    "plt.show()"
   ]
  },
  {
   "cell_type": "markdown",
   "metadata": {
    "id": "H4_9OwrsXZlz"
   },
   "source": [
    "berdasarkan hasil evaluasi dari keempat model yang digunakan, berikut adalah analisis dan perbandingan kinerjanya:  \n",
    "\n",
    "1. random forest  \n",
    "   - memiliki akurasi tertinggi (0.9595) dibandingkan model lainnya.  \n",
    "   - precision (0.9587), recall (0.9595), dan f1-score (0.9588) menunjukkan performa yang sangat baik.  \n",
    "   - confusion matrix menunjukkan bahwa model ini memiliki jumlah kesalahan klasifikasi yang paling sedikit.  \n",
    "   - model ini bekerja sangat baik dalam menangani overfitting dibandingkan dengan decision tree tunggal.  \n",
    "\n",
    "2. logistic regression  \n",
    "   - akurasi sebesar 0.9057, lebih rendah dari random forest dan decision tree.  \n",
    "   - precision (0.8997), recall (0.9057), dan f1-score (0.8988) menunjukkan performa yang cukup baik namun tidak sekuat random forest.  \n",
    "   - cenderung lebih baik untuk dataset dengan hubungan linear, tetapi mungkin kurang mampu menangani pola kompleks.  \n",
    "\n",
    "3. k-nearest neighbors (knn)  \n",
    "   - akurasi terendah (0.8968) di antara keempat model.  \n",
    "   - precision (0.8891), recall (0.8968), dan f1-score (0.8882) juga paling rendah.  \n",
    "   - confusion matrix menunjukkan bahwa model ini memiliki tingkat kesalahan yang lebih tinggi dibandingkan model lainnya.  \n",
    "   - kinerja knn dapat dipengaruhi oleh parameter jumlah tetangga (k) yang dipilih, serta metrik jarak yang digunakan.  \n",
    "\n",
    "4. decision tree  \n",
    "   - akurasi 0.9353, lebih baik dari logistic regression dan knn, tetapi lebih rendah dari random forest.  \n",
    "   - precision (0.9371), recall (0.9353), dan f1-score (0.9361) cukup tinggi.  \n",
    "   - memiliki performa yang lebih baik daripada knn dan logistic regression dalam menangkap pola kompleks.  \n",
    "   - rentan terhadap overfitting, tetapi masih menunjukkan hasil yang cukup baik.  \n",
    "\n"
   ]
  },
  {
   "cell_type": "markdown",
   "metadata": {
    "id": "ph9yIYDXEPuB"
   },
   "source": [
    "## **c. Tuning Model Klasifikasi (Optional)**"
   ]
  },
  {
   "cell_type": "markdown",
   "metadata": {
    "id": "-Bikx3LINv5e"
   },
   "source": [
    "Gunakan GridSearchCV, RandomizedSearchCV, atau metode lainnya untuk mencari kombinasi hyperparameter terbaik"
   ]
  },
  {
   "cell_type": "code",
   "execution_count": null,
   "metadata": {
    "id": "winbFzb8NL95"
   },
   "outputs": [],
   "source": []
  },
  {
   "cell_type": "markdown",
   "metadata": {
    "id": "hE7pqlEPEYzI"
   },
   "source": [
    "## **d. Evaluasi Model Klasifikasi setelah Tuning (Optional)**"
   ]
  },
  {
   "cell_type": "markdown",
   "metadata": {
    "id": "feaPESoeN0zz"
   },
   "source": [
    "Berikut adalah rekomendasi tahapannya.\n",
    "1. Gunakan model dengan hyperparameter terbaik.\n",
    "2. Hitung ulang metrik evaluasi untuk melihat apakah ada peningkatan performa."
   ]
  },
  {
   "cell_type": "code",
   "execution_count": null,
   "metadata": {
    "id": "HTXZRvEeNMb1"
   },
   "outputs": [],
   "source": []
  },
  {
   "cell_type": "markdown",
   "metadata": {
    "id": "ZRsOdm4uEgAW"
   },
   "source": [
    "## **e. Analisis Hasil Evaluasi Model Klasifikasi**"
   ]
  },
  {
   "cell_type": "markdown",
   "metadata": {
    "id": "Hm3BhSi6N4_l"
   },
   "source": [
    "berikut adalah analisis berdasarkan confusion matrix dan evaluasi akurasi sebelumnya untuk keempat model yang digunakan.  \n",
    "\n",
    "### 1. random forest  \n",
    "- confusion matrix menunjukkan model ini memiliki jumlah kesalahan klasifikasi paling sedikit dibandingkan model lain.  \n",
    "- hanya 28 sampel kelas \"attrited\" yang salah diklasifikasikan sebagai \"not attrited,\" dan hanya 54 sampel \"not attrited\" yang diklasifikasikan salah.  \n",
    "- precision dan recall tinggi menunjukkan model ini mampu mengenali kedua kelas dengan baik.  \n",
    "- model ini memiliki akurasi tertinggi (0.9595), yang menunjukkan keseimbangan antara bias dan varians yang baik.  \n",
    "- kemungkinan tidak mengalami overfitting karena performanya tetap tinggi pada semua metrik.  \n",
    "\n",
    "kelemahan:  \n",
    "- meskipun sangat baik, tetap ada kesalahan prediksi yang dapat diminimalkan lebih lanjut.  \n",
    "\n",
    "rekomendasi:  \n",
    "- dapat dicoba tuning hyperparameter lebih lanjut atau menggunakan ensemble learning tambahan untuk meningkatkan generalisasi.  \n",
    "\n",
    "### 2. logistic regression  \n",
    "- confusion matrix menunjukkan kesalahan klasifikasi yang lebih besar dibandingkan random forest dan decision tree.  \n",
    "- 47 sampel \"attrited\" diklasifikasikan salah sebagai \"not attrited,\" dan 144 sampel \"not attrited\" salah diklasifikasikan sebagai \"attrited.\"  \n",
    "- akurasi (0.9057) lebih rendah dibanding random forest dan decision tree.  \n",
    "- cenderung lebih cocok untuk dataset dengan hubungan linear, yang mungkin bukan karakteristik utama dataset ini.  \n",
    "\n",
    "kelemahan:  \n",
    "- precision dan recall lebih rendah dibandingkan random forest dan decision tree, menunjukkan kurang mampu mengenali pola kompleks.  \n",
    "- lebih banyak kesalahan pada kelas \"not attrited,\" yang berarti model ini kurang sensitif terhadap kelas tersebut.  \n",
    "\n",
    "rekomendasi:  \n",
    "- dapat mencoba teknik feature engineering tambahan atau menggunakan model non-linear seperti support vector machine (svm) atau boosting models (xgboost).  \n",
    "\n",
    "### 3. k-nearest neighbors (knn)  \n",
    "- confusion matrix menunjukkan tingkat kesalahan yang lebih tinggi dibandingkan model lain.  \n",
    "- 51 sampel \"attrited\" salah diklasifikasikan sebagai \"not attrited,\" dan 158 sampel \"not attrited\" salah diklasifikasikan sebagai \"attrited.\"  \n",
    "- akurasi (0.8968) adalah yang terendah di antara semua model.  \n",
    "- model ini lebih sensitif terhadap pemilihan parameter jumlah tetangga (k).  \n",
    "\n",
    "kelemahan:  \n",
    "- performa kurang optimal karena knn sangat bergantung pada distribusi data dan tidak bekerja baik pada dataset yang kompleks.  \n",
    "- recall yang lebih rendah menunjukkan model ini kurang mampu mengenali sampel dari kedua kelas dengan baik.  \n",
    "\n",
    "rekomendasi:  \n",
    "- melakukan tuning hyperparameter pada nilai k.  \n",
    "- menggunakan teknik preprocessing tambahan seperti normalisasi data untuk meningkatkan performa.  \n",
    "- mempertimbangkan metode lain seperti support vector machine atau neural networks jika data memiliki pola non-linear.  \n",
    "\n",
    "### 4. decision tree  \n",
    "- confusion matrix menunjukkan jumlah kesalahan klasifikasi lebih tinggi dibandingkan random forest tetapi lebih baik dibanding logistic regression dan knn.  \n",
    "- 75 sampel \"attrited\" salah diklasifikasikan sebagai \"not attrited,\" dan 56 sampel \"not attrited\" salah diklasifikasikan sebagai \"attrited.\"  \n",
    "- akurasi (0.9353) lebih baik dibanding logistic regression dan knn tetapi lebih rendah dibanding random forest.  \n",
    "- model ini rentan terhadap overfitting karena decision tree cenderung mempelajari data secara spesifik.  \n",
    "\n",
    "kelemahan:  \n",
    "- overfitting masih menjadi potensi masalah karena decision tree sering mempelajari noise dalam data.  \n",
    "\n",
    "rekomendasi:  \n",
    "- menggunakan pruning untuk mengurangi kompleksitas model.  \n",
    "- mengganti decision tree dengan random forest atau gradient boosting yang lebih stabil dan generalizable.  \n",
    "\n",
    "### kesimpulan akhir  \n",
    "- random forest adalah pilihan terbaik dengan keseimbangan akurasi tinggi dan resistansi terhadap overfitting.  \n",
    "- logistic regression kurang mampu menangkap pola kompleks, tetapi masih dapat digunakan jika interpretabilitas menjadi prioritas.  \n",
    "- knn memiliki performa paling rendah dan sangat bergantung pada parameter dan distribusi data.  \n",
    "- decision tree memiliki performa cukup baik tetapi lebih rentan terhadap overfitting dibandingkan random forest.  \n",
    "\n",
    "### tindakan lanjutan  \n",
    "- jika ingin meningkatkan performa lebih lanjut, bisa mencoba gradient boosting (xgboost atau lightgbm) yang sering kali lebih baik dalam menangani pola kompleks.  \n",
    "- melakukan feature engineering tambahan untuk meningkatkan representasi data.  \n",
    "- menambah jumlah data jika memungkinkan untuk meningkatkan kemampuan generalisasi model."
   ]
  },
  {
   "cell_type": "code",
   "execution_count": null,
   "metadata": {},
   "outputs": [],
   "source": []
  }
 ],
 "metadata": {
  "colab": {
   "provenance": []
  },
  "kernelspec": {
   "display_name": "Python 3 (ipykernel)",
   "language": "python",
   "name": "python3"
  },
  "language_info": {
   "codemirror_mode": {
    "name": "ipython",
    "version": 3
   },
   "file_extension": ".py",
   "mimetype": "text/x-python",
   "name": "python",
   "nbconvert_exporter": "python",
   "pygments_lexer": "ipython3",
   "version": "3.12.3"
  }
 },
 "nbformat": 4,
 "nbformat_minor": 4
}
